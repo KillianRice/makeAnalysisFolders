{
 "cells": [
  {
   "cell_type": "code",
   "execution_count": 1,
   "metadata": {},
   "outputs": [],
   "source": [
    "import numpy as np"
   ]
  },
  {
   "cell_type": "code",
   "execution_count": 2,
   "metadata": {},
   "outputs": [],
   "source": [
    "# Function to produce points symmetrically around center\n",
    "def symmetric_roi_pnts(center, width, step_size):\n",
    "    lower = np.flipud(np.arange(center-step_size, center-width/2 - step_size, -step_size))\n",
    "    upper = np.arange(center, center+width/2 + step_size, step_size)\n",
    "    \n",
    "    return np.concatenate((lower, upper))\n",
    "\n",
    "# Function to replace redundant points in scan_pnts with those of roi_pnts\n",
    "def insert_roi_pnts(scan_pnts, roi_pnts):\n",
    "    # Split scan_pnts in to a lower/upper parts without including points in roi_pnts\n",
    "    [scan_pnts_lower, scan_pnts_upper] = [scan_pnts[scan_pnts <= min(roi_pnts)], scan_pnts[scan_pnts >= max(roi_pnts)]]\n",
    "    \n",
    "    # Return concate the array with roi_points in between lower/upper part of scan_pnts\n",
    "    return np.concatenate((scan_pnts_lower, roi_pnts, scan_pnts_upper))\n",
    "\n",
    "def generate_scan_pnts(start_value, stop_value, step_size, roi):\n",
    "    scan_pnts = np.arange(start_value, stop_value+step_size, step_size)\n",
    "    \n",
    "    for row in roi:\n",
    "        roi_pnts = symmetric_roi_pnts(row[0], row[1], row[2])\n",
    "        scan_pnts = insert_roi_pnts(scan_pnts, roi_pnts)\n",
    "    \n",
    "    # Remove duplicate points\n",
    "    scan_pnts = np.unique(scan_pnts)\n",
    "    \n",
    "    # Sort low to high\n",
    "    scan_pnts = np.sort(scan_pnts)\n",
    "    \n",
    "    return scan_pnts"
   ]
  },
  {
   "cell_type": "code",
   "execution_count": 3,
   "metadata": {},
   "outputs": [],
   "source": [
    "# Example for 5s30s, 3S1, F=11/2 unpolarized dimer lines\n",
    "\n",
    "# Regions of interest [center, width, fine_step]\n",
    "\n",
    "roi = np.array([[1610.75, 1.5+1.7, 0.025],\n",
    "                [1597.33, 5.76, 0.025]])\n",
    "\n",
    "out = generate_scan_pnts(1612.95, 1588.7, -0.1, roi)\n",
    "\n",
    "np.savetxt('custom_scan.csv', out, delimiter=',', fmt='%10.4f')"
   ]
  },
  {
   "cell_type": "code",
   "execution_count": null,
   "metadata": {},
   "outputs": [],
   "source": []
  }
 ],
 "metadata": {
  "kernelspec": {
   "display_name": "Python 3",
   "language": "python",
   "name": "python3"
  },
  "language_info": {
   "codemirror_mode": {
    "name": "ipython",
    "version": 3
   },
   "file_extension": ".py",
   "mimetype": "text/x-python",
   "name": "python",
   "nbconvert_exporter": "python",
   "pygments_lexer": "ipython3",
   "version": "3.6.8"
  }
 },
 "nbformat": 4,
 "nbformat_minor": 2
}
